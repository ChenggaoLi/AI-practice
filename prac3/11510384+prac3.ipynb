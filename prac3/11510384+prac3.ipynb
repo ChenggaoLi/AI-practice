{
 "cells": [
  {
   "cell_type": "markdown",
   "metadata": {},
   "source": [
    "# Introduction to Artificial Intelligence for Non Computing"
   ]
  },
  {
   "cell_type": "markdown",
   "metadata": {},
   "source": [
    "## Practical 3 (weeks 5 - 6)"
   ]
  },
  {
   "cell_type": "markdown",
   "metadata": {},
   "source": [
    "The following links provide additional information about data analysis , machine learning and Numpy"
   ]
  },
  {
   "cell_type": "markdown",
   "metadata": {},
   "source": [
    "Python data analysis: https://www.imooc.com/learn/843\n",
    "machine learning: https://www.imooc.com/learn/717\n",
    "Numpy :https://www.imooc.com/learn/943"
   ]
  },
  {
   "cell_type": "markdown",
   "metadata": {},
   "source": [
    "#### Theory Questions"
   ]
  },
  {
   "cell_type": "markdown",
   "metadata": {},
   "source": [
    "1\\.Which of the following are true and which are false? Give brief explanations.\n",
    "- a. In a fully observable, turn-taking, zero-sum game between two perfectly rational players,it does not help the first player to know what strategy the second player is using—that is, what move the second player will make, given the first player's move.\n",
    "- b. In a partially observable, turn-taking, zero-sum game between two perfectly rational players, it does not help the first player to know what move the second player will make, given the first player's move.\n",
    "- c. A perfectly rational backgammon agent never loses.\n",
    "\n",
    "See textbook Chapter6 24.6"
   ]
  },
  {
   "cell_type": "markdown",
   "metadata": {},
   "source": [
    "_your answer here..._ \n",
    "\n",
    "    a. True, The second player will play optimally,and so is perfectly predictable up to ties. Knowing which of two equally good moves the opponent will make does not change the value of the game to the first player.\n",
    "    b.False. In a partially observable game, knowing the second player's move tells the first player additional information about the game state that would otherwise be available only to the second player.\n",
    "    c.False. Backgammon is a game of chance, and the opponent may consistently roll much better dice. The correct statment is that the expected winnings are optimal."
   ]
  },
  {
   "cell_type": "markdown",
   "metadata": {},
   "source": [
    "2\\.Define in your own words the terms constraint, backtracking search, arc consistency,backjumping, min-conflicts, and cycle cutset.\n",
    "\n",
    "See textbook Chapter6 6.16"
   ]
  },
  {
   "cell_type": "markdown",
   "metadata": {},
   "source": [
    "_your answer here..._ \n",
    "\n",
    "    constraint: A constraint is a restriction on the possible values of two or more variables.\n",
    "    backtracking search: Backtracking search is a kind of depth-first search. For a certain search tree, backtracking and DFS, the main difference is that backtracking method is not in the solution process. The complete tree struction is preserved, while the depth-first search records the complete tree.\n",
    "    arc consistency: A directed arc from variable A to variable B in a CSP is arc consisent if, for every value in the current domain of A, there is some consistent value of B.\n",
    "    backjumping: Backjumping is a way of making backtracking search more efficient, by jumping back more than one level when a dead end is reached.\n",
    "    Min-conflicts: min conflicts is a heuristic for use with local search on CSP problems. The heuristic says that, when given a variable to modify, choose the value that conflicts with the fewest nukber of other variables.\n",
    "    cycle cutset: A cycle cutset is a set of variables which when removed from the constraint graph make it acyclic. When the variables of a cycle cutset are instantiated the remainder of the CSP can be solved in linear time."
   ]
  },
  {
   "cell_type": "markdown",
   "metadata": {},
   "source": [
    "3\\.Explain why it is a good heuristic to choose the variable that is most constrained but the value that is least constraining in a CSP search.\n",
    "\n",
    "See textbook Chapter6 6.9"
   ]
  },
  {
   "cell_type": "markdown",
   "metadata": {},
   "source": [
    "_your answer here..._ \n",
    "\n",
    "    The most constrained variable makes sense because it chooses a variable that is likely to cause a failure, and it is more efficient to fail as early as possible. The least constraining value heuristic makes sense because it allows the most chances for future assignments to avoid conflict."
   ]
  },
  {
   "cell_type": "markdown",
   "metadata": {},
   "source": [
    "4\\.Consider the following procedure for choosing moves in games with chance nodes: \n",
    "- 1、Generate some dice-roll sequences (say, 50) down to a suitable depth (say, 8).\n",
    "- 2、With known dice rolls, the game tree becomes deterministic. For each dice-roll sequence,solve the resulting deterministic game tree using alpha-beta.\n",
    "- 3、Use the results to estimate the value of each move and to choose the best.Will this procedure work well? Why (or why not)?\n",
    "\n",
    "See textbook Chapter5 5.19"
   ]
  },
  {
   "cell_type": "markdown",
   "metadata": {},
   "source": [
    "_your answer here..._ \n",
    "\n",
    "    This procedue will give incorrect results. Mathematically, the procedure amounts to assuming that averaging commutes with min and max, which it does not. Intultivrely, the choices made by each player in the deterministic trees are based on full knowledge of future dice rolls, and bear no necessary relationship to the moves made without such knowledge."
   ]
  },
  {
   "cell_type": "markdown",
   "metadata": {},
   "source": [
    "5\\. Now,please consider this game:  there are three plates A, B and C, each plate has three bills. A puts 1, 20, 50; B puts 5, 10, 100; C puts 1, 5, 20. All units are \"Yuan\". There are two persons A and B, and two of them can check out three plates and banknotes .（ A is ourself, The other is B）\n",
    "The game is divided into three steps: \n",
    "- 1、A select a plate from three plate.\n",
    "- 2、B take out two banknotes from A selected plate,and give the  banknotes to A.  \n",
    "- 3、A take one of the two banknotes, and take it away.among,A want to get the max banknotes, B want to let A to get the min.\n",
    "\n",
    "Try to understand the minimax algorithm，you can click the link:https://blog.csdn.net/tangchenyi/article/details/22920031"
   ]
  },
  {
   "cell_type": "markdown",
   "metadata": {},
   "source": [
    "_your answer here..._ \n",
    "\n",
    "***<img src=\"img/p7.png\" width=\"400\" height=\"300\" >"
   ]
  },
  {
   "cell_type": "markdown",
   "metadata": {},
   "source": [
    "### Programming Excercises"
   ]
  },
  {
   "cell_type": "markdown",
   "metadata": {},
   "source": [
    "1\\. Guess number(Single number): please generate a randomly number  with the function (random), then ask someone to guess the number,I think we should give the corresponding hint, otherwise it will be very difficult to guess the number.the game will be over untill you get the right number."
   ]
  },
  {
   "cell_type": "code",
   "execution_count": 8,
   "metadata": {
    "collapsed": false
   },
   "outputs": [
    {
     "name": "stdout",
     "output_type": "stream",
     "text": [
      "Welcome to Guess number game, please guess the number based on the guides!\n",
      "please guess a number which in range of 0 to 100.\n",
      "Please guess the number:45\n",
      "you number is too big\n",
      "Please guess the number:20\n",
      "you number is too small\n",
      "Please guess the number:24\n",
      "you number is too small\n",
      "Please guess the number:30\n",
      "you number is too big\n",
      "Please guess the number:26\n",
      "you number is too small\n",
      "Please guess the number:28\n",
      "you number is too big\n",
      "Please guess the number:27\n",
      "bingo!\n"
     ]
    }
   ],
   "source": [
    "## write your answer here!\n",
    "import random\n",
    "number = random.randint(0,100)\n",
    "print('Welcome to Guess number game, please guess the number based on the guides!')\n",
    "print('please guess a number which in range of 0 to 100.')\n",
    "state = True\n",
    "while state:\n",
    "    guessnumber = int(input(\"Please guess the number:\"))\n",
    "    if guessnumber == number:\n",
    "        print(\"bingo!\")\n",
    "        state = False\n",
    "    elif (guessnumber < number):\n",
    "        print('you number is too small')\n",
    "    else:\n",
    "        print('you number is too big')"
   ]
  },
  {
   "cell_type": "markdown",
   "metadata": {},
   "source": [
    "2\\.if you had understand the guess single number games,Congratulates,next is the guess three number games,Maybe you can do it well.But this is a different way of thinking. \n",
    "first : we need generate three numbers,there are most ten times chances give  you to guess the number,of course,we also give you some cue.\n",
    "\n",
    "- 'When I say:-->It means:\n",
    "- 'error--> The 3 numbers are not in the mystical numbers.'\n",
    "- 'Only the number is correct --> the number is right , but the position is not right.'\n",
    "- 'Absolutely right--> numbers is right and the position also right.'\n",
    "\n",
    "Maybe it's better for you to understand the rule well through see the picture.\n",
    "<div style=\"float:left;\" ><img src=\"img/p1.png\" width=\"400\" height=\"300\" >"
   ]
  },
  {
   "cell_type": "code",
   "execution_count": 39,
   "metadata": {
    "collapsed": false
   },
   "outputs": [
    {
     "name": "stdout",
     "output_type": "stream",
     "text": [
      "Welcome to Guess number game, please guess the number based on the guides!\n",
      "there are 3 numbers, please guess what it is\n",
      "This is the 1 time:123\n",
      "['error', 'error', 'Absolutely right']\n",
      "This is the 2 time:453\n",
      "['Absolutely right', 'error', 'Absolutely right']\n",
      "This is the 3 time:463\n",
      "['Absolutely right', 'error', 'Absolutely right']\n",
      "This is the 4 time:473\n",
      "['Absolutely right', 'error', 'Absolutely right']\n",
      "This is the 5 time:483\n",
      "['Absolutely right', 'error', 'Absolutely right']\n",
      "This is the 6 time:493\n",
      "['Absolutely right', 'error', 'Absolutely right']\n",
      "This is the 7 time:403\n",
      "Congratulations!\n"
     ]
    }
   ],
   "source": [
    "## write your answer here!\n",
    "import random\n",
    "number = random.randint(100,999)\n",
    "right = [int(i) for i in str(number)]\n",
    "print('Welcome to Guess number game, please guess the number based on the guides!')\n",
    "print('there are 3 numbers, please guess what it is')\n",
    "state = True\n",
    "count = 1\n",
    "while state and count<11:\n",
    "    guessnumber = input(\"This is the %d time:\" % count)\n",
    "    guess = [int(i) for i in guessnumber]\n",
    "    if len(guess)!=3:\n",
    "        print('wrong input, number is not in a right range')\n",
    "    else:\n",
    "        count = count+1\n",
    "        if guess == right:\n",
    "            print('Congratulations!')\n",
    "            state = False\n",
    "        else:\n",
    "            guessstate = []\n",
    "            for i in range(3):\n",
    "                if guess[i] in right:\n",
    "                    if guess[i] == right[i]:\n",
    "                        guessstate.append('Absolutely right')\n",
    "                    else:\n",
    "                        guessstate.append('Only the number is correct')\n",
    "                else:\n",
    "                    guessstate.append('error')\n",
    "            print(guessstate)  \n",
    "if count==11:\n",
    "    print('you fail! the right number is %d'%number)\n",
    "    \n"
   ]
  },
  {
   "cell_type": "markdown",
   "metadata": {},
   "source": [
    "3\\.please try using Python's Tkinter to make a visual interface（GUI）.if you don't know anything.Maybe you can refer to the below interface.and implement it by code.\n",
    "<div style=\"float:left;\" ><img src=\"img/p2.png\" width=\"200\" height=\"200\" >"
   ]
  },
  {
   "cell_type": "code",
   "execution_count": 48,
   "metadata": {
    "collapsed": false
   },
   "outputs": [],
   "source": [
    "## write your answer here!\n",
    "from tkinter import *          \n",
    "root = Tk()                    \n",
    "li     = ['C','python','php','html','SQL','java']\n",
    "movie  = ['CSS','jQuery','Bootstrap']\n",
    "listb  = Listbox(root)          \n",
    "listb2 = Listbox(root)\n",
    "for item in li:                \n",
    "    listb.insert(0,item)\n",
    "listb.pack()  \n",
    "\n",
    "for item in movie:              \n",
    "    listb2.insert(0,item)\n",
    "                    \n",
    "listb2.pack()\n",
    "root.mainloop()                 "
   ]
  },
  {
   "cell_type": "markdown",
   "metadata": {},
   "source": [
    "4\\.Through the initial trial of Tkinter,    please write a simple calculator.\n",
    "\n",
    "<div style=\"float:left;\" ><img src=\"img/p3.png\" width=\"180\" height=\"200\" center=\"left\"></div>\n",
    "<div style=\"float:left;\" ><img src=\"img/p4.png\" width=\"180\" height=\"200\" center=\"right\" ></div>"
   ]
  },
  {
   "cell_type": "code",
   "execution_count": 1,
   "metadata": {
    "collapsed": false
   },
   "outputs": [],
   "source": [
    "## write your answer here!\n",
    "from tkinter import *\n",
    "\n",
    "\n",
    "\n",
    "class Calculator(Frame):\n",
    "     def __init__(self):\n",
    "        Frame.__init__(self)\n",
    "        self.pack(expand=YES, fill=BOTH)\n",
    "        self.master.title('simple calculator')\n",
    "        self.master.rowconfigure( 0, weight = 1 )\n",
    "        self.master.columnconfigure( 0, weight = 1 )\n",
    "        self.grid( sticky = W+E+N+S )\n",
    "\n",
    "        display = StringVar()\n",
    "\n",
    "        #add entry ,use grid method\n",
    "        #textvariable must use 'display' instead of 'StrinvVar()', or click button shows nothing in Entry\n",
    "        entry = Entry(self, relief=SUNKEN, textvariable=display)\n",
    "        #W+E+N+S means that the widget should be expanded in both directions. Default is to center the widget in the cell.\n",
    "        entry.grid(row=0, column=0, columnspan=4, sticky=W+E+N+S)\n",
    "\n",
    "        #add button, use grid method\n",
    "        grid = '12345678.90=+-*/'\n",
    "        for index,textChar in enumerate(grid):\n",
    "            a = Button(self, text=textChar, width=5, command=lambda text=textChar:display.set(display.get() + text))\n",
    "            a.grid(row=1+index//4, column=index%4)\n",
    "            button_text = a.cget(\"text\")\n",
    "            #print(button_text)\n",
    "            if button_text == '=':\n",
    "                a.config(command=lambda:display.set(eval(display.get())))\n",
    "\n",
    "        #add clear button\n",
    "        b = Button(self, text=\"clear\", width=20, command=lambda:display.set(\"\"))\n",
    "        #b.grid(row=7, column=0, columnspan=4)\n",
    "        b.grid(row=7, column=0, columnspan=4, sticky=W+E+N+S)\n",
    "\n",
    "\n",
    "\n",
    "if __name__ == '__main__':\n",
    "    Calculator().mainloop()"
   ]
  },
  {
   "cell_type": "markdown",
   "metadata": {},
   "source": [
    "5\\.Ball game:Python's pinball game, which can realize the game function of the keyboard control bottom baffle moving collision ball similar to table tennis game. \n",
    "\n",
    "<div style=\"float:left;\" ><img src=\"img/p5.png\" width=\"200\" height=\"200\" center=\"left\"></div>\n",
    "<div style=\"float:left;\" ><img src=\"img/p6.png\" width=\"200\" height=\"200\" center=\"right\" ></div>\n"
   ]
  },
  {
   "cell_type": "markdown",
   "metadata": {},
   "source": [
    "this is a step:how to install the matplotlib,you can reference this link:https://blog.csdn.net/not_give_up_/article/details/79058272\n",
    "1. Ball Class\n",
    "    draw is responsible for moving Ball\n",
    "    Collision detection, bounce, Ball detection of Paddle \n",
    "2. Paddle Class\n",
    "    draw is responsible for moving Paddle\n",
    "    Collision detection to determine whether or not to continue ,Monitor keyboard events\n",
    "3. main cycle\n",
    "    Drawing the Ball and Paddle"
   ]
  },
  {
   "cell_type": "code",
   "execution_count": 7,
   "metadata": {
    "collapsed": false
   },
   "outputs": [],
   "source": [
    "## write your answer here!\n",
    "from tkinter import *\n",
    "import matplotlib\n",
    "matplotlib.use('Agg')\n",
    "import random\n",
    "import time\n",
    "class Ball:\n",
    "    def __init__(self, canvas, paddle, color):\n",
    "        self.canvas = canvas\n",
    "        self.paddle = paddle\n",
    "        self.id = canvas.create_oval(10, 10, 25, 25, fill=color)\n",
    "        self.canvas.move(self.id, 245, 100)\n",
    "        startx = [-3, -2, -1, 1, 2, 3]\n",
    "        random.shuffle(startx)\n",
    "        self.x = startx[0]\n",
    "        self.y = -3\n",
    "        self.canvas_height = self.canvas.winfo_height()\n",
    "        self.canvas_width = self.canvas.winfo_width()\n",
    "        self.hit_bottom = False\n",
    "    def draw(self):\n",
    "        self.canvas.move(self.id, self.x, self.y)\n",
    "        pos = self.canvas.coords(self.id)#top-left bottom-right\n",
    "        if (pos[1] <= 0 or self.hit_paddle(pos) == True):\n",
    "            self.y = -self.y\n",
    "        if (pos[0] <= 0 or pos[2] >= self.canvas_width):\n",
    "            self.x = -self.x\n",
    "        if (pos[3] >= self.canvas_height):\n",
    "            self.hit_bottom = True\n",
    "    def hit_paddle(self, pos):\n",
    "        paddle_pos = self.canvas.coords(self.paddle.id)\n",
    "        if (pos[2] >= paddle_pos[0] and pos[0] <= paddle_pos[2]):\n",
    "            if (pos[3] >= paddle_pos[1] and pos[3] <= paddle_pos[3]):\n",
    "                return True\n",
    "        return False\n",
    "class Paddle:\n",
    "    def __init__(self, canvas, color):\n",
    "        self.canvas = canvas\n",
    "        self.id = canvas.create_rectangle(0, 0, 100, 10, fill = color)\n",
    "        self.x = 0\n",
    "        self.canvas.move(self.id, 200, 300)\n",
    "        self.canvas_width = self.canvas.winfo_width()\n",
    "        self.canvas.bind_all(\"<Key-Left>\", self.turn_left)\n",
    "        self.canvas.bind_all(\"<Key-Right>\", self.turn_right)\n",
    "    def draw(self):\n",
    "        pos = self.canvas.coords(self.id)\n",
    "        if (pos[0] + self.x >= 0 and pos[2] + self.x <= self.canvas_width):\n",
    "            self.canvas.move(self.id, self.x, 0)\n",
    "        #self.x = 0\n",
    "    def turn_left(self, event):\n",
    "        self.x = -4\n",
    "    def turn_right(self, event):\n",
    "        self.x = 4\n",
    "tk = Tk()\n",
    "tk.title(\"Game\")\n",
    "tk.resizable(0, 0)#not resizable\n",
    "tk.wm_attributes(\"-topmost\", 1)#at top\n",
    "canvas = Canvas(tk, width = 500, height = 500, bd = 0, highlightthickness = 0)\n",
    "canvas.pack()\n",
    "tk.update()#init\n",
    "paddle = Paddle(canvas, 'blue')\n",
    "ball = Ball(canvas, paddle, 'red')\n",
    "while 1:\n",
    "    if(ball.hit_bottom == False):\n",
    "        ball.draw()\n",
    "        paddle.draw()\n",
    "    try:\n",
    "        tk.update_idletasks()\n",
    "        tk.update()\n",
    "        time.sleep(0.01)\n",
    "    except:\n",
    "        break\n"
   ]
  },
  {
   "cell_type": "code",
   "execution_count": null,
   "metadata": {
    "collapsed": true
   },
   "outputs": [],
   "source": []
  }
 ],
 "metadata": {
  "anaconda-cloud": {},
  "kernelspec": {
   "display_name": "Python [default]",
   "language": "python",
   "name": "python3"
  },
  "language_info": {
   "codemirror_mode": {
    "name": "ipython",
    "version": 3
   },
   "file_extension": ".py",
   "mimetype": "text/x-python",
   "name": "python",
   "nbconvert_exporter": "python",
   "pygments_lexer": "ipython3",
   "version": "3.5.2"
  }
 },
 "nbformat": 4,
 "nbformat_minor": 2
}
